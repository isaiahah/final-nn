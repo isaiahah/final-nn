{
 "cells": [
  {
   "cell_type": "markdown",
   "metadata": {},
   "source": [
    "# Part 3: DNA Binding Classifier"
   ]
  },
  {
   "cell_type": "markdown",
   "metadata": {},
   "source": [
    "## Load prerequisites and data"
   ]
  },
  {
   "cell_type": "code",
   "execution_count": 1,
   "metadata": {},
   "outputs": [],
   "source": [
    "from nn import nn\n",
    "from nn import io\n",
    "from nn import preprocess\n",
    "import sklearn\n",
    "import numpy as np\n",
    "import matplotlib.pyplot as plt"
   ]
  },
  {
   "cell_type": "code",
   "execution_count": 10,
   "metadata": {},
   "outputs": [],
   "source": [
    "positive_seqs = io.read_text_file(\"./data/rap1-lieb-positives.txt\")\n",
    "negative_seqs = io.read_fasta_file(\"./data/yeast-upstream-1k-negative.fa\")\n",
    "# Negative sequences are 1000 characters while positive sequences are 17, so pick a random 17 amino acid subsequence\n",
    "np.random.seed(42)\n",
    "negative_seqs_trimmed = []\n",
    "for negative_seq in negative_seqs:\n",
    "    i = np.random.randint(len(negative_seq) - 17 + 1)\n",
    "    negative_seqs_trimmed.append(negative_seq[i:i+17])\n",
    "\n",
    "# Generate full sequence list\n",
    "seqs = positive_seqs + negative_seqs_trimmed\n",
    "labels = ([True] * len(positive_seqs)) + ([False] * len(negative_seqs_trimmed))\n",
    "\n",
    "# Randomly sample sequences to account for class imbalance\n",
    "sampled_seqs, sampled_labels = preprocess.sample_seqs(seqs, labels)\n",
    "\n",
    "# Encode sequences\n",
    "sampled_seqs_encoded = preprocess.one_hot_encode_seqs(sampled_seqs)\n",
    "\n",
    "# Randomly split sequences into training and validation sets\n",
    "indexes_permuted = np.random.permutation(len(sampled_seqs_encoded))\n",
    "train_indices = indexes_permuted[:len(sampled_seqs_encoded) * 7 // 10]\n",
    "val_indices = indexes_permuted[len(sampled_seqs_encoded) * 7 // 10:]\n",
    "seqs_train = np.array([sampled_seqs_encoded[i] for i in train_indices]).reshape((-1, 68, 1))\n",
    "labels_train = np.array([sampled_labels[i] for i in train_indices]).astype(np.float64).reshape(-1, 1, 1)\n",
    "seqs_val = np.array([sampled_seqs_encoded[i] for i in val_indices]).reshape((-1, 68, 1))\n",
    "labels_val = np.array([sampled_labels[i] for i in val_indices]).astype(np.float64).reshape((-1, 1, 1))"
   ]
  },
  {
   "cell_type": "markdown",
   "metadata": {},
   "source": [
    "I chose to sample a number of data points from the less frequent class equal to the number of data points from the most frequent class (with replacement). This ensures that all data is used in the training process while both positive and negative samples have equal representation."
   ]
  },
  {
   "cell_type": "markdown",
   "metadata": {},
   "source": [
    "## Define and train classifier"
   ]
  },
  {
   "cell_type": "code",
   "execution_count": 11,
   "metadata": {},
   "outputs": [],
   "source": [
    "# Define the classifier\n",
    "dna_classifier = nn.NeuralNetwork([{\"input_dim\": 17 * 4, \"output_dim\": 20, \"activation\": \"relu\"},\n",
    "                                   {\"input_dim\": 20, \"output_dim\": 5, \"activation\": \"relu\"}, \n",
    "                                   {\"input_dim\": 5, \"output_dim\": 1, \"activation\": \"sigmoid\"}],\n",
    "                                  lr=0.015,\n",
    "                                  seed=42,\n",
    "                                  batch_size=20,\n",
    "                                  epochs=7,\n",
    "                                  loss_function=\"binary_cross_entropy\")"
   ]
  },
  {
   "cell_type": "code",
   "execution_count": 12,
   "metadata": {},
   "outputs": [],
   "source": [
    "# Train the classifier\n",
    "per_epoch_loss_train, per_epoch_loss_val = dna_classifier.fit(seqs_train, \n",
    "                                                              labels_train, \n",
    "                                                              seqs_val, \n",
    "                                                              labels_val)"
   ]
  },
  {
   "cell_type": "code",
   "execution_count": 13,
   "metadata": {},
   "outputs": [
    {
     "data": {
      "text/plain": [
       "<matplotlib.legend.Legend at 0x1312174d0>"
      ]
     },
     "execution_count": 13,
     "metadata": {},
     "output_type": "execute_result"
    },
    {
     "data": {
      "image/png": "[encoded data removed]",
      "text/plain": [
       "<Figure size 640x480 with 1 Axes>"
      ]
     },
     "metadata": {},
     "output_type": "display_data"
    }
   ],
   "source": [
    "# Plot training and validation loss by epoch\n",
    "fig, axs = plt.subplots()\n",
    "axs.plot(per_epoch_loss_train, label=\"Training Loss\")\n",
    "axs.plot(per_epoch_loss_val, label=\"Validation Loss\")\n",
    "axs.set_xlabel(\"Epoch\")\n",
    "axs.set_ylabel(\"Mean Reconstruction Loss\")\n",
    "axs.legend()"
   ]
  },
  {
   "cell_type": "code",
   "execution_count": 14,
   "metadata": {},
   "outputs": [
    {
     "name": "stdout",
     "output_type": "stream",
     "text": [
      "Final accuracy on validation set: 0.9968387776606955\n"
     ]
    }
   ],
   "source": [
    "val_prediction = dna_classifier.predict(seqs_val)\n",
    "val_accuracy = np.mean(np.round(val_prediction) == labels_val)\n",
    "print(f\"Final accuracy on validation set: {val_accuracy}\")"
   ]
  },
  {
   "cell_type": "markdown",
   "metadata": {},
   "source": [
    "I chose an architecture with three layers each with a decreasing dimension. This should hopefully distill increasingly important features from the DNA sequence deeper into the network, while still providing enough layers to learn complex features. I used a relu activation on all layers except the last, where the sigmoid is necessary as this is a binary prediction problem.\n",
    "\n",
    "As this is a binary classification problem, I used the binary cross entropy loss function and a sigmoid activation in the final layer so answers would scale between 0 and 1.\n",
    "\n",
    "I copied the training parameters from the digit autoencoder as an initial guess, and they performed very well so were not modified. The model shows a very steep loss during initial training followed by a short plateau at the end of the epochs, which indicates the model is learning without overfitting. The low validation loss and high accuracy on the validation set supports this belief."
   ]
  }
 ],
 "metadata": {
  "kernelspec": {
   "display_name": ".venv",
   "language": "python",
   "name": "python3"
  },
  "language_info": {
   "codemirror_mode": {
    "name": "ipython",
    "version": 3
   },
   "file_extension": ".py",
   "mimetype": "text/x-python",
   "name": "python",
   "nbconvert_exporter": "python",
   "pygments_lexer": "ipython3",
   "version": "3.13.1"
  }
 },
 "nbformat": 4,
 "nbformat_minor": 2
}
